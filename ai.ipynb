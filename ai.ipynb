{
 "cells": [
  {
   "cell_type": "code",
   "execution_count": 1,
   "metadata": {
    "collapsed": true,
    "id": "7MoOvXz1hugm"
   },
   "outputs": [],
   "source": [
    "import cv2 as cv\n",
    "import numpy as np\n",
    "import os\n",
    "import keras\n",
    "from sklearn.model_selection import train_test_split\n",
    "from keras.utils import np_utils\n",
    "from keras.models import Sequential\n",
    "from keras.layers import Conv2D,MaxPooling2D,Dense,Flatten,Dropout"
   ]
  },
  {
   "cell_type": "code",
   "source": [
    "# import os\n",
    "# from google.colab import drive\n",
    "# drive.mount('/content/drive')\n",
    "# os.chdir(\"/content/drive/My Drive/Colab Notebooks/\")"
   ],
   "metadata": {
    "colab": {
     "base_uri": "https://localhost:8080/"
    },
    "id": "qSFJvYiGh2aV",
    "outputId": "a8775cd5-d63f-4631-f3df-7f2da35b6809"
   },
   "execution_count": 2,
   "outputs": [
    {
     "output_type": "stream",
     "name": "stdout",
     "text": [
      "Drive already mounted at /content/drive; to attempt to forcibly remount, call drive.mount(\"/content/drive\", force_remount=True).\n"
     ]
    }
   ]
  },
  {
   "cell_type": "code",
   "execution_count": 41,
   "outputs": [
    {
     "output_type": "stream",
     "name": "stdout",
     "text": [
      "['images (433).jpeg', 'images (24).jpeg', 'images (189).jpeg', 'images (287).jpeg', 'images (283).jpeg', 'images (276).jpeg', 'images (467).jpeg', 'images (375).jpeg', 'images (272).jpeg', 'images (149).jpeg', 'images (383).jpeg', 'images (274).jpeg', 'images (483).jpeg', 'images (29).jpeg', 'images (99).jpeg', 'images (308).jpeg', 'images (395).jpeg', 'images (469).jpeg', 'images (454).jpeg', 'images (154).jpeg', 'images (177).jpeg', 'images (493).jpeg', 'images (422).jpeg', 'images (94).jpeg', 'images (219).jpeg', 'images (200).jpeg', 'images (488).jpeg', 'images (505).jpeg', 'images (277).jpeg', 'images (523).jpeg', 'images (20).jpeg', 'images (544).jpeg', 'images (86).jpeg', 'images (21).jpeg', 'images (447).jpeg', 'images (547).jpeg', 'images (242).jpeg', 'images (473).jpeg', 'images (159).jpeg', 'image (8).jpeg', 'images (268).jpeg', 'images (542).jpeg', 'images (410).jpeg', 'images (402).jpeg', 'images (548).jpeg', 'images (489).jpeg', 'images (102).jpeg', 'images (293).jpeg', 'images (109).jpeg', 'images (226).jpeg', 'images (419).jpeg', 'images (15).jpeg', 'images (183).jpeg', 'images (453).jpeg', 'images (126).jpeg', 'images (157).jpeg', 'images (499).jpeg', 'images (151).jpeg', 'images (468).jpeg', 'images (38).jpeg', 'images (361).jpeg', 'images (359).jpeg', 'images (72).jpeg', 'images (254).jpeg', 'images (327).jpeg', 'images (193).jpeg', 'images (80).jpeg', 'images (470).jpeg', 'images (480).jpeg', 'images (533).jpeg', 'images (255).jpeg', 'images (385).jpeg', 'images (228).jpeg', 'images (312).jpeg', 'images (537).jpeg', 'images (96).jpeg', 'image (2).jpeg', 'images (221).jpeg', 'images (74).jpeg', 'images (32).jpeg', 'images (403).jpeg', 'images (301).jpeg', 'images (49).jpeg', 'images (516).jpeg', 'images (137).jpeg', 'images (220).jpeg', 'image (24).jpeg', 'images (376).jpeg', 'images (199).jpeg', 'images (152).jpeg', 'images (294).jpeg', 'images (82).jpeg', 'images (377).jpeg', 'images (26).jpeg', 'images (358).jpeg', 'images (147).jpeg', 'images (401).jpeg', 'images (31).jpeg', 'images (514).jpeg', 'images (337).jpeg', 'images (34).jpeg', 'images (118).jpeg', 'images (320).jpeg', 'images (123).jpeg', 'images (461).jpeg', 'images (141).jpeg', 'images (8).jpeg', 'images (212).jpeg', 'images (225).jpeg', 'images (450).jpeg', 'images (271).jpeg', 'image (6).jpeg', 'images (237).jpeg', 'images (56).jpeg', 'images (525).jpeg', 'images (57).jpeg', 'images (496).jpeg', 'images (452).jpeg', 'images (354).jpeg', 'images (356).jpeg', 'images (319).jpeg', 'images (439).jpeg', 'images (185).jpeg', 'images (531).jpeg', 'images (349).jpeg', 'images (240).jpeg', 'images (331).jpeg', 'images (324).jpeg', 'images (87).jpeg', 'images (19).jpeg', 'images (23).jpeg', 'images (12).jpeg', 'image (14).jpeg', 'images (522).jpeg', 'images (235).jpeg', 'images (145).jpeg', 'images.jpeg', 'images (41).jpeg', 'image (1).jpeg', 'images (339).jpeg', 'images (360).jpeg', 'images (124).jpeg', 'images (425).jpeg', 'images (196).jpeg', 'images (46).jpeg', 'images (106).jpeg', 'images (405).jpeg', 'images (374).jpeg', 'images (299).jpeg', 'images (103).jpeg', 'images (430).jpeg', 'images (368).jpeg', 'images (549).jpeg', 'images (176).jpeg', 'images (517).jpeg', 'images (408).jpeg', 'images (6).jpeg', 'images (510).jpeg', 'images (217).jpeg', 'images (252).jpeg', 'images (187).jpeg', 'image (7).jpeg', 'images (256).jpeg', 'images (7).jpeg', 'images (541).jpeg', 'images (413).jpeg', 'images (33).jpeg', 'images (336).jpeg', 'images (438).jpeg', 'images (244).jpeg', 'images (35).jpeg', 'image (3).jpeg', 'images (334).jpeg', 'images (206).jpeg', 'images (138).jpeg', 'images (371).jpeg', 'images (307).jpeg', 'image (18).jpeg', 'images (81).jpeg', 'images (449).jpeg', 'images (198).jpeg', 'image (25).jpeg', 'images (476).jpeg', 'images (10).jpeg', 'images (205).jpeg', 'images (534).jpeg', 'images (325).jpeg', 'images (104).jpeg', 'images (207).jpeg', 'images (335).jpeg', 'images (386).jpeg', 'images (486).jpeg', 'images (236).jpeg', 'images (110).jpeg', 'images (344).jpeg', 'images (113).jpeg', 'images (91).jpeg', 'images (475).jpeg', 'images (427).jpeg', 'images (243).jpeg', 'images (539).jpeg', 'images (306).jpeg', 'images (116).jpeg', 'images (479).jpeg', 'images (139).jpeg', 'images (393).jpeg', 'images (367).jpeg', 'images (25).jpeg', 'images (295).jpeg', 'images (404).jpeg', 'images (246).jpeg', 'images (160).jpeg', 'images (460).jpeg', 'images (14).jpeg', 'images (150).jpeg', 'images (115).jpeg', 'image (4).jpeg', 'images (88).jpeg', 'images (195).jpeg', 'images (79).jpeg', 'images (396).jpeg', 'images (434).jpeg', 'images (317).jpeg', 'images (342).jpeg', 'images (387).jpeg', 'images (357).jpeg', 'images (136).jpeg', 'images (223).jpeg', 'images (485).jpeg', 'images (379).jpeg', 'images (144).jpeg', 'images (323).jpeg', 'images (163).jpeg', 'images (3).jpeg', 'images (230).jpeg', 'images (494).jpeg', 'images (143).jpeg', 'images (546).jpeg', 'images (9).jpeg', 'images (111).jpeg', 'images (502).jpeg', 'images (90).jpeg', 'images (194).jpeg', 'images (218).jpeg', 'images (122).jpeg', 'images (84).jpeg', 'images (233).jpeg', 'images (76).jpeg', 'images (302).jpeg', 'images (314).jpeg', 'images (528).jpeg', 'images (508).jpeg', 'images (417).jpeg', 'images (350).jpeg', 'images (348).jpeg', 'images (418).jpeg', 'images (500).jpeg', 'images (67).jpeg', 'images (495).jpeg', 'images (234).jpeg', 'images (182).jpeg', 'images (264).jpeg', 'images (166).jpeg', 'images (114).jpeg', 'images (285).jpeg', 'images (190).jpeg', 'images (68).jpeg', 'images (140).jpeg', 'images (364).jpeg', 'images (213).jpeg', 'images (311).jpeg', 'images (441).jpeg', 'images (506).jpeg', 'images (156).jpeg', 'images (184).jpeg', 'images (69).jpeg', 'images (363).jpeg', 'image (22).jpeg', 'image (15).jpeg', 'images (526).jpeg', 'images (89).jpeg', 'images (292).jpeg', 'images (108).jpeg', 'images (260).jpeg', 'images (406).jpeg', 'images (158).jpeg', 'images (64).jpeg', 'images (343).jpeg', 'images (93).jpeg', 'images (61).jpeg', 'images (304).jpeg', 'images (338).jpeg', 'images (54).jpeg', 'images (409).jpeg', 'images (536).jpeg', 'images (75).jpeg', 'images (414).jpeg', 'images (279).jpeg', 'images (169).jpeg', 'images (161).jpeg', 'images (303).jpeg', 'images (289).jpeg', 'images (512).jpeg', 'images (477).jpeg', 'images (426).jpeg', 'images (39).jpeg', 'image (19).jpeg', 'images (515).jpeg', 'images (129).jpeg', 'images (504).jpeg', 'images (524).jpeg', 'images (132).jpeg', 'images (491).jpeg', 'images (70).jpeg', 'images (266).jpeg', 'images (465).jpeg', 'images (36).jpeg', 'images (521).jpeg', 'images (192).jpeg', 'images (232).jpeg', 'images (40).jpeg', 'images (85).jpeg', 'images (125).jpeg', 'images (197).jpeg', 'images (362).jpeg', 'images (224).jpeg', 'images (201).jpeg', 'images (326).jpeg', 'images (471).jpeg', 'images (28).jpeg', 'images (501).jpeg', 'images (429).jpeg', 'images (248).jpeg', 'images (290).jpeg', 'images (281).jpeg', 'image (10).jpeg', 'images (284).jpeg', 'images (346).jpeg', 'images (355).jpeg', 'images (47).jpeg', 'images (43).jpeg', 'images (497).jpeg', 'images (100).jpeg', 'images (412).jpeg', 'images (107).jpeg', 'images (2).jpeg', 'images (511).jpeg', 'images (1).jpeg', 'images (121).jpeg', 'images (424).jpeg', 'image (5).jpeg', 'images (133).jpeg', 'images (440).jpeg', 'images (411).jpeg', 'images (95).jpeg', 'images (329).jpeg', 'images (484).jpeg', 'images (381).jpeg', 'images (247).jpeg', 'images (251).jpeg', 'images (22).jpeg', 'images (437).jpeg', 'images (462).jpeg', 'images (131).jpeg', 'images (112).jpeg', 'image (9).jpeg', 'images (174).jpeg', 'images (245).jpeg', 'images (146).jpeg', 'images (487).jpeg', 'images (527).jpeg', 'images (259).jpeg', 'images (142).jpeg', 'images (392).jpeg', 'images (543).jpeg', 'images (436).jpeg', 'images (382).jpeg', 'images (227).jpeg', 'images (16).jpeg', 'images (507).jpeg', 'images (11).jpeg', 'images (168).jpeg', 'images (388).jpeg', 'images (416).jpeg', 'images (275).jpeg', 'images (215).jpeg', 'images (445).jpeg', 'images (370).jpeg', 'image (21).jpeg', 'images (135).jpeg', 'images (482).jpeg', 'images (448).jpeg', 'images (179).jpeg', 'images (435).jpeg', 'images (380).jpeg', 'images (305).jpeg', 'images (170).jpeg', 'images (347).jpeg', 'images (73).jpeg', 'images (498).jpeg', 'images (130).jpeg', 'images (455).jpeg', 'images (529).jpeg', 'images (128).jpeg', 'images (399).jpeg', 'images (280).jpeg', 'images (155).jpeg', 'image (12).jpeg', 'images (474).jpeg', 'images (30).jpeg', 'images (52).jpeg', 'images (83).jpeg', 'images (241).jpeg', 'images (180).jpeg', 'images (446).jpeg', 'images (77).jpeg', 'images (153).jpeg', 'images (181).jpeg', 'images (282).jpeg', 'images (171).jpeg', 'images (269).jpeg', 'images (203).jpeg', 'images (238).jpeg', 'images (332).jpeg', 'images (466).jpeg', 'images (490).jpeg', 'images (423).jpeg', 'images (421).jpeg', 'images (457).jpeg', 'images (519).jpeg', 'images (400).jpeg', 'images (351).jpeg', 'images (191).jpeg', 'images (120).jpeg', 'images (310).jpeg', 'images (535).jpeg', 'images (458).jpeg', 'images (464).jpeg', 'images (45).jpeg', 'images (98).jpeg', 'images (229).jpeg', 'images (253).jpeg', 'images (365).jpeg', 'images (48).jpeg', 'images (222).jpeg', 'images (432).jpeg', 'images (202).jpeg', 'images (538).jpeg', 'images (97).jpeg', 'images (44).jpeg', 'images (164).jpeg', 'images (297).jpeg', 'images (328).jpeg', 'images (53).jpeg', 'images (415).jpeg', 'images (478).jpeg', 'images (316).jpeg', 'images (60).jpeg', 'images (263).jpeg', 'images (384).jpeg', 'images (37).jpeg', 'images (216).jpeg', 'images (341).jpeg', 'images (55).jpeg', 'images (451).jpeg', 'images (456).jpeg', 'images (186).jpeg', 'images (322).jpeg', 'image.jpeg', 'images (119).jpeg', 'images (509).jpeg', 'images (204).jpeg', 'images (267).jpeg', 'images (71).jpeg', 'images (78).jpeg', 'images (420).jpeg', 'images (378).jpeg', 'images (278).jpeg', 'images (178).jpeg', 'images (397).jpeg', 'images (27).jpeg', 'images (291).jpeg', 'images (172).jpeg', 'images (369).jpeg', 'images (431).jpeg', 'images (42).jpeg', 'images (330).jpeg', 'images (4).jpeg', 'images (463).jpeg', 'images (63).jpeg', 'images (503).jpeg', 'images (173).jpeg', 'images (321).jpeg', 'images (530).jpeg', 'images (208).jpeg', 'images (162).jpeg', 'images (372).jpeg', 'images (165).jpeg', 'images (13).jpeg', 'images (288).jpeg', 'image (16).jpeg', 'images (59).jpeg', 'images (167).jpeg', 'images (340).jpeg', 'images (315).jpeg', 'image (11).jpeg', 'images (532).jpeg', 'images (389).jpeg', 'images (105).jpeg', 'images (101).jpeg', 'images (134).jpeg', 'images (58).jpeg', 'images (286).jpeg', 'images (211).jpeg', 'images (391).jpeg', 'images (443).jpeg', 'images (366).jpeg', 'images (333).jpeg', 'images (257).jpeg', 'images (407).jpeg', 'images (270).jpeg', 'images (298).jpeg', 'images (513).jpeg', 'images (540).jpeg', 'images (300).jpeg', 'images (18).jpeg', 'images (520).jpeg', 'image (23).jpeg', 'images (492).jpeg', 'images (239).jpeg', 'images (50).jpeg', 'images (309).jpeg', 'image (13).jpeg', 'images (51).jpeg', 'images (258).jpeg', 'images (273).jpeg', 'images (231).jpeg', 'images (318).jpeg', 'images (428).jpeg', 'images (390).jpeg', 'images (313).jpeg', 'images (175).jpeg', 'images (210).jpeg', 'images (17).jpeg', 'images (296).jpeg', 'images (481).jpeg', 'images (62).jpeg', 'images (373).jpeg', 'images (148).jpeg', 'images (545).jpeg', 'images (65).jpeg', 'images (394).jpeg', 'images (444).jpeg', 'images (345).jpeg', 'images (398).jpeg', 'images (265).jpeg', 'images (472).jpeg', 'images (352).jpeg', 'images (209).jpeg', 'images (92).jpeg', 'image (20).jpeg', 'images (127).jpeg', 'images (117).jpeg', 'images (262).jpeg', 'images (5).jpeg', 'images (442).jpeg', 'images (353).jpeg', 'image (17).jpeg', 'images (188).jpeg', 'images (249).jpeg', 'images (250).jpeg', 'images (261).jpeg', 'images (214).jpeg', 'images (66).jpeg', 'images (459).jpeg', 'images (518).jpeg']\n"
     ]
    }
   ],
   "source": [
    "data = []\n",
    "label = []\n",
    "cats = os.listdir(\"data/cat\")\n",
    "print(cats)\n",
    "try:\n",
    "    for cat in os.listdir(\"data/cat\"):\n",
    "        img = cv.imread(\"data/cat/\" + cat, cv.IMREAD_GRAYSCALE)\n",
    "        #print('Original Dimensions : ',img.shape)\n",
    "        resized = cv.resize(img, (50, 50))\n",
    "        data.append(resized)\n",
    "        label.append(1)\n",
    "    for dog in os.listdir(\"data/dog\"):\n",
    "        img = cv.imread(\"data/dog/\" + dog, cv.IMREAD_GRAYSCALE)\n",
    "        #print('Original Dimensions : ',img.shape)\n",
    "        resized = cv.resize(img, (50, 50))\n",
    "        data.append(resized)\n",
    "        label.append(0)\n",
    "except Exception as e:\n",
    "    print(str(e))\n",
    "\n",
    "pets = np.array(data)\n",
    "labels = np.array(label)\n",
    "\n",
    "np.save(\"pets\",pets)\n",
    "np.save(\"labels\",labels)"
   ],
   "metadata": {
    "pycharm": {
     "name": "#%%\n"
    },
    "colab": {
     "base_uri": "https://localhost:8080/"
    },
    "id": "Wv1oZQ00hugn",
    "outputId": "977c0e20-2425-419f-eb23-9345062d12af"
   }
  },
  {
   "cell_type": "code",
   "execution_count": 42,
   "outputs": [],
   "source": [
    "#https://stackoverflow.com/questions/4601373/better-way-to-shuffle-two-numpy-arrays-in-unison\n",
    "\n",
    "shuffle = np.arange(pets.shape[0])\n",
    "np.random.shuffle(shuffle)\n",
    "pets = pets[shuffle]\n",
    "labels = labels[shuffle]"
   ],
   "metadata": {
    "pycharm": {
     "name": "#%%\n"
    },
    "id": "NNW_D8BZhugp"
   }
  },
  {
   "cell_type": "code",
   "execution_count": 43,
   "outputs": [],
   "source": [
    "X_train, X_test, y_train, y_test = train_test_split(pets, labels, test_size=0.2, random_state=6)\n",
    "\n"
   ],
   "metadata": {
    "pycharm": {
     "name": "#%%\n"
    },
    "id": "SM1Re-l9hugq"
   }
  },
  {
   "cell_type": "code",
   "execution_count": 44,
   "outputs": [],
   "source": [
    "y_train=keras.utils.to_categorical(y_train,2)\n",
    "y_test=keras.utils.to_categorical(y_test,2)"
   ],
   "metadata": {
    "pycharm": {
     "name": "#%%\n"
    },
    "id": "7VCU2eH5hugr"
   }
  },
  {
   "cell_type": "code",
   "source": [
    "#https://towardsdatascience.com/wtf-is-image-classification-8e78a8235acb\n",
    "#https://www.tensorflow.org/tutorials/images/cnn\n",
    "\n",
    "model = Sequential()\n",
    "model.add(Conv2D(16,kernel_size=(3,3),activation = 'relu', input_shape = (50,50,1)))\n",
    "model.add(MaxPooling2D(pool_size=2))\n",
    "model.add(Conv2D(32,kernel_size=(3,3), activation='relu'))\n",
    "model.add(MaxPooling2D(pool_size=2))\n",
    "model.add(Conv2D(64,kernel_size=(3,3), activation='relu'))\n",
    "model.add(MaxPooling2D(pool_size=2))\n",
    "model.add(Flatten())\n",
    "model.add(Dense(256,activation=\"relu\"))\n",
    "model.add(Dropout(0.5))\n",
    "model.add(Dense(2,activation='softmax'))\n",
    "\n",
    "model.summary()\n",
    "\n"
   ],
   "metadata": {
    "colab": {
     "base_uri": "https://localhost:8080/"
    },
    "id": "QCaddHmz0584",
    "outputId": "cce5b778-aa81-4d0b-abbc-3aac147b778b"
   },
   "execution_count": 45,
   "outputs": [
    {
     "output_type": "stream",
     "name": "stdout",
     "text": [
      "Model: \"sequential_8\"\n",
      "_________________________________________________________________\n",
      " Layer (type)                Output Shape              Param #   \n",
      "=================================================================\n",
      " conv2d_24 (Conv2D)          (None, 48, 48, 16)        160       \n",
      "                                                                 \n",
      " max_pooling2d_24 (MaxPoolin  (None, 24, 24, 16)       0         \n",
      " g2D)                                                            \n",
      "                                                                 \n",
      " conv2d_25 (Conv2D)          (None, 22, 22, 32)        4640      \n",
      "                                                                 \n",
      " max_pooling2d_25 (MaxPoolin  (None, 11, 11, 32)       0         \n",
      " g2D)                                                            \n",
      "                                                                 \n",
      " conv2d_26 (Conv2D)          (None, 9, 9, 64)          18496     \n",
      "                                                                 \n",
      " max_pooling2d_26 (MaxPoolin  (None, 4, 4, 64)         0         \n",
      " g2D)                                                            \n",
      "                                                                 \n",
      " flatten_8 (Flatten)         (None, 1024)              0         \n",
      "                                                                 \n",
      " dense_16 (Dense)            (None, 256)               262400    \n",
      "                                                                 \n",
      " dropout_8 (Dropout)         (None, 256)               0         \n",
      "                                                                 \n",
      " dense_17 (Dense)            (None, 2)                 514       \n",
      "                                                                 \n",
      "=================================================================\n",
      "Total params: 286,210\n",
      "Trainable params: 286,210\n",
      "Non-trainable params: 0\n",
      "_________________________________________________________________\n"
     ]
    }
   ]
  },
  {
   "cell_type": "code",
   "source": [
    "model.compile(loss='categorical_crossentropy', optimizer='adam', metrics=['accuracy'])"
   ],
   "metadata": {
    "id": "g2lHwCzb54J8"
   },
   "execution_count": 46,
   "outputs": []
  },
  {
   "cell_type": "code",
   "source": [
    "model.fit(X_train,y_train,batch_size=50,epochs=50,validation_data=(X_test, y_test))"
   ],
   "metadata": {
    "colab": {
     "base_uri": "https://localhost:8080/"
    },
    "id": "V3qzbui259oU",
    "outputId": "0f3b41e2-62aa-417a-b98e-569dee699a4d"
   },
   "execution_count": 47,
   "outputs": [
    {
     "output_type": "stream",
     "name": "stdout",
     "text": [
      "Epoch 1/50\n",
      "17/17 [==============================] - 3s 116ms/step - loss: 6.3769 - accuracy: 0.5085 - val_loss: 0.7897 - val_accuracy: 0.4904\n",
      "Epoch 2/50\n",
      "17/17 [==============================] - 2s 104ms/step - loss: 0.7557 - accuracy: 0.5399 - val_loss: 0.7113 - val_accuracy: 0.5337\n",
      "Epoch 3/50\n",
      "17/17 [==============================] - 2s 103ms/step - loss: 0.6676 - accuracy: 0.5966 - val_loss: 0.6908 - val_accuracy: 0.5481\n",
      "Epoch 4/50\n",
      "17/17 [==============================] - 2s 102ms/step - loss: 0.6290 - accuracy: 0.6280 - val_loss: 0.6900 - val_accuracy: 0.5529\n",
      "Epoch 5/50\n",
      "17/17 [==============================] - 2s 102ms/step - loss: 0.5921 - accuracy: 0.6800 - val_loss: 0.7189 - val_accuracy: 0.5529\n",
      "Epoch 6/50\n",
      "17/17 [==============================] - 2s 102ms/step - loss: 0.5550 - accuracy: 0.7017 - val_loss: 0.6988 - val_accuracy: 0.6010\n",
      "Epoch 7/50\n",
      "17/17 [==============================] - 2s 103ms/step - loss: 0.4878 - accuracy: 0.7657 - val_loss: 0.7843 - val_accuracy: 0.5817\n",
      "Epoch 8/50\n",
      "17/17 [==============================] - 2s 101ms/step - loss: 0.4185 - accuracy: 0.8309 - val_loss: 0.7958 - val_accuracy: 0.5865\n",
      "Epoch 9/50\n",
      "17/17 [==============================] - 2s 103ms/step - loss: 0.3685 - accuracy: 0.8382 - val_loss: 0.7535 - val_accuracy: 0.5817\n",
      "Epoch 10/50\n",
      "17/17 [==============================] - 2s 104ms/step - loss: 0.3095 - accuracy: 0.8744 - val_loss: 0.8530 - val_accuracy: 0.6106\n",
      "Epoch 11/50\n",
      "17/17 [==============================] - 2s 102ms/step - loss: 0.2728 - accuracy: 0.8853 - val_loss: 0.8987 - val_accuracy: 0.6731\n",
      "Epoch 12/50\n",
      "17/17 [==============================] - 2s 102ms/step - loss: 0.2412 - accuracy: 0.9058 - val_loss: 0.8935 - val_accuracy: 0.6394\n",
      "Epoch 13/50\n",
      "17/17 [==============================] - 2s 103ms/step - loss: 0.2089 - accuracy: 0.9203 - val_loss: 0.9426 - val_accuracy: 0.6298\n",
      "Epoch 14/50\n",
      "17/17 [==============================] - 2s 100ms/step - loss: 0.1605 - accuracy: 0.9408 - val_loss: 1.1156 - val_accuracy: 0.6154\n",
      "Epoch 15/50\n",
      "17/17 [==============================] - 2s 103ms/step - loss: 0.1271 - accuracy: 0.9541 - val_loss: 1.1719 - val_accuracy: 0.6202\n",
      "Epoch 16/50\n",
      "17/17 [==============================] - 2s 103ms/step - loss: 0.1271 - accuracy: 0.9541 - val_loss: 1.0781 - val_accuracy: 0.6346\n",
      "Epoch 17/50\n",
      "17/17 [==============================] - 2s 104ms/step - loss: 0.1079 - accuracy: 0.9626 - val_loss: 1.0912 - val_accuracy: 0.5913\n",
      "Epoch 18/50\n",
      "17/17 [==============================] - 2s 102ms/step - loss: 0.0677 - accuracy: 0.9783 - val_loss: 1.2945 - val_accuracy: 0.6106\n",
      "Epoch 19/50\n",
      "17/17 [==============================] - 2s 104ms/step - loss: 0.0556 - accuracy: 0.9879 - val_loss: 1.3990 - val_accuracy: 0.6010\n",
      "Epoch 20/50\n",
      "17/17 [==============================] - 2s 104ms/step - loss: 0.0484 - accuracy: 0.9891 - val_loss: 1.2946 - val_accuracy: 0.6250\n",
      "Epoch 21/50\n",
      "17/17 [==============================] - 2s 103ms/step - loss: 0.0498 - accuracy: 0.9891 - val_loss: 1.5082 - val_accuracy: 0.6106\n",
      "Epoch 22/50\n",
      "17/17 [==============================] - 2s 103ms/step - loss: 0.0551 - accuracy: 0.9819 - val_loss: 1.4664 - val_accuracy: 0.6202\n",
      "Epoch 23/50\n",
      "17/17 [==============================] - 2s 103ms/step - loss: 0.0429 - accuracy: 0.9928 - val_loss: 1.5427 - val_accuracy: 0.6154\n",
      "Epoch 24/50\n",
      "17/17 [==============================] - 2s 102ms/step - loss: 0.0348 - accuracy: 0.9855 - val_loss: 1.6001 - val_accuracy: 0.6010\n",
      "Epoch 25/50\n",
      "17/17 [==============================] - 2s 103ms/step - loss: 0.0961 - accuracy: 0.9614 - val_loss: 1.4751 - val_accuracy: 0.6106\n",
      "Epoch 26/50\n",
      "17/17 [==============================] - 2s 104ms/step - loss: 0.0551 - accuracy: 0.9819 - val_loss: 1.4101 - val_accuracy: 0.6202\n",
      "Epoch 27/50\n",
      "17/17 [==============================] - 2s 104ms/step - loss: 0.0373 - accuracy: 0.9903 - val_loss: 1.5962 - val_accuracy: 0.5865\n",
      "Epoch 28/50\n",
      "17/17 [==============================] - 2s 103ms/step - loss: 0.0159 - accuracy: 0.9976 - val_loss: 1.7743 - val_accuracy: 0.6010\n",
      "Epoch 29/50\n",
      "17/17 [==============================] - 2s 103ms/step - loss: 0.0143 - accuracy: 0.9976 - val_loss: 1.5835 - val_accuracy: 0.6154\n",
      "Epoch 30/50\n",
      "17/17 [==============================] - 2s 102ms/step - loss: 0.0065 - accuracy: 1.0000 - val_loss: 1.7687 - val_accuracy: 0.6154\n",
      "Epoch 31/50\n",
      "17/17 [==============================] - 2s 103ms/step - loss: 0.0041 - accuracy: 1.0000 - val_loss: 1.8221 - val_accuracy: 0.6154\n",
      "Epoch 32/50\n",
      "17/17 [==============================] - 2s 102ms/step - loss: 0.0047 - accuracy: 1.0000 - val_loss: 1.8585 - val_accuracy: 0.5913\n",
      "Epoch 33/50\n",
      "17/17 [==============================] - 2s 104ms/step - loss: 0.0070 - accuracy: 0.9988 - val_loss: 1.7346 - val_accuracy: 0.6442\n",
      "Epoch 34/50\n",
      "17/17 [==============================] - 2s 103ms/step - loss: 0.0042 - accuracy: 1.0000 - val_loss: 1.7331 - val_accuracy: 0.6010\n",
      "Epoch 35/50\n",
      "17/17 [==============================] - 2s 105ms/step - loss: 0.0102 - accuracy: 0.9976 - val_loss: 2.0304 - val_accuracy: 0.6298\n",
      "Epoch 36/50\n",
      "17/17 [==============================] - 2s 104ms/step - loss: 0.0112 - accuracy: 0.9976 - val_loss: 1.8220 - val_accuracy: 0.6106\n",
      "Epoch 37/50\n",
      "17/17 [==============================] - 2s 102ms/step - loss: 0.0359 - accuracy: 0.9879 - val_loss: 1.8009 - val_accuracy: 0.6154\n",
      "Epoch 38/50\n",
      "17/17 [==============================] - 2s 103ms/step - loss: 0.0638 - accuracy: 0.9831 - val_loss: 1.8328 - val_accuracy: 0.5865\n",
      "Epoch 39/50\n",
      "17/17 [==============================] - 2s 105ms/step - loss: 0.0444 - accuracy: 0.9831 - val_loss: 1.5967 - val_accuracy: 0.6442\n",
      "Epoch 40/50\n",
      "17/17 [==============================] - 2s 102ms/step - loss: 0.0198 - accuracy: 0.9940 - val_loss: 1.6562 - val_accuracy: 0.6058\n",
      "Epoch 41/50\n",
      "17/17 [==============================] - 2s 103ms/step - loss: 0.0207 - accuracy: 0.9952 - val_loss: 1.9715 - val_accuracy: 0.5817\n",
      "Epoch 42/50\n",
      "17/17 [==============================] - 2s 104ms/step - loss: 0.0118 - accuracy: 0.9988 - val_loss: 1.9344 - val_accuracy: 0.6394\n",
      "Epoch 43/50\n",
      "17/17 [==============================] - 2s 103ms/step - loss: 0.0112 - accuracy: 0.9964 - val_loss: 1.7677 - val_accuracy: 0.5865\n",
      "Epoch 44/50\n",
      "17/17 [==============================] - 2s 103ms/step - loss: 0.0066 - accuracy: 0.9988 - val_loss: 1.8155 - val_accuracy: 0.6106\n",
      "Epoch 45/50\n",
      "17/17 [==============================] - 2s 105ms/step - loss: 0.0081 - accuracy: 0.9964 - val_loss: 1.6508 - val_accuracy: 0.6154\n",
      "Epoch 46/50\n",
      "17/17 [==============================] - 2s 103ms/step - loss: 0.0044 - accuracy: 1.0000 - val_loss: 1.8180 - val_accuracy: 0.6154\n",
      "Epoch 47/50\n",
      "17/17 [==============================] - 2s 101ms/step - loss: 0.0026 - accuracy: 1.0000 - val_loss: 1.7864 - val_accuracy: 0.6154\n",
      "Epoch 48/50\n",
      "17/17 [==============================] - 2s 104ms/step - loss: 0.0020 - accuracy: 1.0000 - val_loss: 1.7779 - val_accuracy: 0.6394\n",
      "Epoch 49/50\n",
      "17/17 [==============================] - 2s 103ms/step - loss: 0.0017 - accuracy: 1.0000 - val_loss: 1.7835 - val_accuracy: 0.6154\n",
      "Epoch 50/50\n",
      "17/17 [==============================] - 2s 102ms/step - loss: 0.0014 - accuracy: 1.0000 - val_loss: 1.7974 - val_accuracy: 0.6202\n"
     ]
    },
    {
     "output_type": "execute_result",
     "data": {
      "text/plain": [
       "<keras.callbacks.History at 0x7fce85d2ac40>"
      ]
     },
     "metadata": {},
     "execution_count": 47
    }
   ]
  },
  {
   "cell_type": "code",
   "source": [
    "score = model.evaluate(X_test, y_test, verbose=1)\n",
    "print('\\n', 'Test accuracy:', score[1])"
   ],
   "metadata": {
    "id": "HKnz_v6n6dsJ",
    "colab": {
     "base_uri": "https://localhost:8080/"
    },
    "outputId": "14e6c87a-ac7a-4c5f-bc8a-5e1a61ac785d"
   },
   "execution_count": 48,
   "outputs": [
    {
     "output_type": "stream",
     "name": "stdout",
     "text": [
      "7/7 [==============================] - 0s 20ms/step - loss: 1.7974 - accuracy: 0.6202\n",
      "\n",
      " Test accuracy: 0.620192289352417\n"
     ]
    }
   ]
  },
  {
   "cell_type": "code",
   "source": [
    "model_json = model.to_json()\n",
    "with open(\"model.json\", \"w\") as json_file:\n",
    "    json_file.write(model_json)\n",
    "model.save_weights(\"model.h5\")"
   ],
   "metadata": {
    "id": "VqfFHOgDbnVn"
   },
   "execution_count": 49,
   "outputs": []
  }
 ],
 "metadata": {
  "kernelspec": {
   "display_name": "Python 3",
   "language": "python",
   "name": "python3"
  },
  "language_info": {
   "codemirror_mode": {
    "name": "ipython",
    "version": 2
   },
   "file_extension": ".py",
   "mimetype": "text/x-python",
   "name": "python",
   "nbconvert_exporter": "python",
   "pygments_lexer": "ipython2",
   "version": "2.7.6"
  },
  "colab": {
   "provenance": []
  }
 },
 "nbformat": 4,
 "nbformat_minor": 0
}